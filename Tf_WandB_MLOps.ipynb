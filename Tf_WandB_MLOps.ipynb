{
  "cells": [
    {
      "cell_type": "markdown",
      "metadata": {
        "id": "view-in-github",
        "colab_type": "text"
      },
      "source": [
        "<a href=\"https://colab.research.google.com/github/snyata/Chat2VIS_Streamlit/blob/main/Tf_WandB_MLOps.ipynb\" target=\"_parent\"><img src=\"https://colab.research.google.com/assets/colab-badge.svg\" alt=\"Open In Colab\"/></a>"
      ]
    },
    {
      "cell_type": "markdown",
      "metadata": {
        "id": "QCraqz1dzrO9"
      },
      "source": [
        "<a href=\"https://colab.research.google.com/github/wandb/examples/blob/master/colabs/scikit/Simple_Scikit_Integration.ipynb\" target=\"_parent\"><img src=\"https://colab.research.google.com/assets/colab-badge.svg\" alt=\"Open In Colab\"/></a>\n",
        "<!--- @wandbcode{simple-sklearn} -->"
      ]
    },
    {
      "cell_type": "markdown",
      "metadata": {
        "id": "Ci1yVkQrzrO_"
      },
      "source": [
        "<img src=\"https://wandb.me/logo-im-png\" width=\"400\" alt=\"Weights & Biases\" />\n",
        "\n",
        "<!--- @wandbcode{simple-sklearn} -->\n",
        "\n",
        "# 🏋️‍♀️ W&B + 🧪 Scikit-learn\n",
        "Use Weights & Biases for machine learning experiment tracking, dataset versioning, and project collaboration.\n",
        "\n",
        "\n",
        "<img src=\"https://wandb.me/mini-diagram\" width=\"650\" alt=\"Weights & Biases\" />\n",
        "\n",
        "\n",
        "## What this notebook covers:\n",
        "* Easy integration of Weights and Biases with Scikit.\n",
        "* W&B Scikit plots for model interpretation and diagnostics for regression, classification, and clustering.\n",
        "\n",
        "**Note**: Sections starting with _Step_ are all you need to integrate W&B to existing code.\n",
        "\n",
        "\n",
        "## The interactive W&B Dashboard will look like this:\n",
        "\n",
        "![](https://i.imgur.com/F1ZgR4A.png)"
      ]
    },
    {
      "cell_type": "markdown",
      "source": [
        "# Setup"
      ],
      "metadata": {
        "id": "JJEzqX6D0YqH"
      }
    },
    {
      "cell_type": "code",
      "source": [
        "%pip install\n",
        "from IPython.utils import io\n",
        "import os\n",
        "import subprocess\n",
        "import tqdm.notebook\n",
        "\n",
        "TQDM_BAR_FORMAT = '{l_bar}{bar}| {n_fmt}/{total_fmt} [elapsed: {elapsed} remaining: {remaining}]'\n",
        "\n",
        "try:\n",
        "  with tqdm.notebook.tqdm(total=100, bar_format=TQDM_BAR_FORMAT) as pbar:\n",
        "    with io.capture_output() as captured:\n",
        "      # Uninstall default Colab version of TF.\n",
        "      #%shell pip uninstall -y tensorflow keras\n",
        "\n",
        "      %shell sudo apt install --quiet --yes hmmer\n",
        "      pbar.update(6)\n",
        "\n",
        "      # Install py3dmol.\n",
        "      %shell pip install py3dmol\n",
        "      pbar.update(2)\n",
        "\n",
        "      # Install OpenMM and pdbfixer.\n",
        "      %shell rm -rf /opt/conda\n",
        "      %shell wget -q -P /tmp \\\n",
        "        https://repo.anaconda.com/miniconda/Miniconda3-latest-Linux-x86_64.sh \\\n",
        "          && bash /tmp/Miniconda3-latest-Linux-x86_64.sh -b -p /opt/conda \\\n",
        "          && rm /tmp/Miniconda3-latest-Linux-x86_64.sh\n",
        "      pbar.update(9)\n",
        "\n",
        "      PATH=%env PATH\n",
        "      %env PATH=/opt/conda/bin:{PATH}\n",
        "      %shell conda install -qy conda==24.1.2 \\\n",
        "          && conda install -qy -c conda-forge \\\n",
        "            python=3.10 \\\n",
        "            openmm=7.7.0 \\\n",
        "            pdbfixer\n",
        "      pbar.update(80)\n",
        "\n",
        "      # Create a ramdisk to store a database chunk to make Jackhmmer run fast.\n",
        "      %shell sudo mkdir -m 777 --parents /tmp/ramdisk\n",
        "      %shell sudo mount -t tmpfs -o size=9G ramdisk /tmp/ramdisk\n",
        "      pbar.update(2)\n",
        "\n",
        "      %shell wget -q -P /content \\\n",
        "        https://git.scicore.unibas.ch/schwede/openstructure/-/raw/7102c63615b64735c4941278d92b554ec94415f8/modules/mol/alg/src/stereo_chemical_props.txt\n",
        "      pbar.update(1)\n",
        "except subprocess.CalledProcessError:\n",
        "  print(captured)\n",
        "  raise\n",
        "\n",
        "executed_cells = set([1])"
      ],
      "metadata": {
        "id": "oYgGPe3B0YAY",
        "colab": {
          "base_uri": "https://localhost:8080/",
          "height": 96,
          "referenced_widgets": [
            "9a819ac0f0dc4f128e13a7abc59918bb",
            "4919fee702c346a39210736e979288e2",
            "7999d1e7e831402991b407d09d53309c",
            "1692eb49103d4bbd888751fabbc4ef1b",
            "3db980aae3c3432f97b18b3480b9890a",
            "5815b0ca81754018846def2e8e5449db",
            "fd9bdef814b74999bee13c559c810772",
            "b8ccaea361794188b1d4180f0c8d8390",
            "aecbe592d621418f981a28294d5b955b",
            "4461d797699241d2a752d6aeab6403a5",
            "eadff0872b2449848dc2e8ed31a4fff7"
          ]
        },
        "outputId": "06037e2e-4f83-4234-9e7a-070dd7ee6b88"
      },
      "execution_count": null,
      "outputs": [
        {
          "output_type": "stream",
          "name": "stdout",
          "text": [
            "\u001b[31mERROR: You must give at least one requirement to install (see \"pip help install\")\u001b[0m\u001b[31m\n",
            "\u001b[0m"
          ]
        },
        {
          "output_type": "display_data",
          "data": {
            "text/plain": [
              "  0%|          | 0/100 [elapsed: 00:00 remaining: ?]"
            ],
            "application/vnd.jupyter.widget-view+json": {
              "version_major": 2,
              "version_minor": 0,
              "model_id": "9a819ac0f0dc4f128e13a7abc59918bb"
            }
          },
          "metadata": {}
        }
      ]
    },
    {
      "cell_type": "code",
      "source": [
        "GIT_REPO = ''\n",
        "SOURCE_URL = ''\n",
        "PARAMS_DIR = ''\n",
        "PARAMS_PATH = os.path.join(PARAMS_DIR, os.path.basename(SOURCE_URL))\n",
        "\n",
        "try:\n",
        "  with tqdm.notebook.tqdm(total=100, bar_format=TQDM_BAR_FORMAT) as pbar:\n",
        "    with io.capture_output() as captured:\n",
        "      %shell rm -rf alphafold\n",
        "      %shell git clone --branch main {GIT_REPO} alphafold\n",
        "      pbar.update(8)\n",
        "      # Install the required versions of all dependencies.\n",
        "      %shell pip3 install -r ./alphafold/requirements.txt\n",
        "      # Run setup.py to install only AlphaFold.\n",
        "      %shell pip3 install --no-dependencies ./alphafold\n",
        "      %shell pip3 install pyopenssl==22.0.0\n",
        "      pbar.update(10)"
      ],
      "metadata": {
        "id": "1BvR90uc0idW"
      },
      "execution_count": null,
      "outputs": []
    },
    {
      "cell_type": "markdown",
      "source": [
        "# Classic Iris Dataset Machine Learning"
      ],
      "metadata": {
        "id": "rPEKnGA-0jwH"
      }
    },
    {
      "cell_type": "code",
      "execution_count": null,
      "metadata": {
        "id": "A-9q2rc-zrO_"
      },
      "outputs": [],
      "source": [
        "import warnings\n",
        "\n",
        "import matplotlib.pyplot as plt\n",
        "import numpy as np\n",
        "import pandas as pd\n",
        "\n",
        "from sklearn.svm import SVC\n",
        "from sklearn.ensemble import RandomForestClassifier\n",
        "from sklearn.linear_model import LinearRegression\n",
        "from sklearn.linear_model import Ridge\n",
        "from sklearn.tree import DecisionTreeClassifier\n",
        "from sklearn.cluster import KMeans\n",
        "from sklearn import datasets, cluster\n",
        "\n",
        "from sklearn.model_selection import train_test_split\n",
        "from sklearn.utils.class_weight import compute_class_weight\n",
        "\n",
        "from sklearn.exceptions import ConvergenceWarning\n",
        "warnings.filterwarnings(\"ignore\", category=ConvergenceWarning)"
      ]
    },
    {
      "cell_type": "markdown",
      "metadata": {
        "id": "aNLzIeFPzrPA"
      },
      "source": [
        "## Step 0: Install W&B"
      ]
    },
    {
      "cell_type": "code",
      "execution_count": null,
      "metadata": {
        "id": "5eGzV_7VzrPA"
      },
      "outputs": [],
      "source": [
        "!pip install wandb -qU"
      ]
    },
    {
      "cell_type": "markdown",
      "metadata": {
        "id": "q9Xkt1oLzrPA"
      },
      "source": [
        "## Step 1: Import W&B and Login"
      ]
    },
    {
      "cell_type": "code",
      "execution_count": null,
      "metadata": {
        "id": "UT2gILLIzrPA"
      },
      "outputs": [],
      "source": [
        "import wandb\n"
      ]
    },
    {
      "cell_type": "code",
      "execution_count": null,
      "metadata": {
        "id": "NloqGGBmzrPA"
      },
      "outputs": [],
      "source": [
        "wandb.init(project=\"\")"
      ]
    },
    {
      "cell_type": "markdown",
      "metadata": {
        "id": "MwvnJznKzrPA"
      },
      "source": [
        "# Regression\n",
        "\n",
        "**Let's check out a quick example**"
      ]
    },
    {
      "cell_type": "code",
      "execution_count": null,
      "metadata": {
        "id": "unMR6GaezrPA"
      },
      "outputs": [],
      "source": [
        "# Load data\n",
        "housing = datasets.fetch_california_housing()\n",
        "X = pd.DataFrame(housing.data, columns=housing.feature_names)\n",
        "y = housing.target\n",
        "X, y = X[::2], y[::2]  # subsample for faster demo\n",
        "wandb.errors.term._show_warnings = False\n",
        "# ignore warnings about charts being built from subset of data\n",
        "\n",
        "X_train, X_test, y_train, y_test = train_test_split(X, y, test_size=0.3)\n",
        "\n",
        "# Train model, get predictions\n",
        "reg = Ridge()\n",
        "reg.fit(X_train, y_train)\n",
        "y_pred = reg.predict(X_test)"
      ]
    },
    {
      "cell_type": "markdown",
      "metadata": {
        "id": "xeRE6v_LzrPB"
      },
      "source": [
        "## Step 2: Initialize W&B run"
      ]
    },
    {
      "cell_type": "code",
      "execution_count": null,
      "metadata": {
        "id": "2ob_AcyszrPB"
      },
      "outputs": [],
      "source": [
        "run = wandb.init(project='my-scikit-integration', name=\"regression\")"
      ]
    },
    {
      "cell_type": "markdown",
      "metadata": {
        "id": "nkepKqb5zrPB"
      },
      "source": [
        "## Step 3: Visualize model performance"
      ]
    },
    {
      "cell_type": "markdown",
      "metadata": {
        "id": "PVmiZyrwzrPB"
      },
      "source": [
        "### Residual Plot\n",
        "\n",
        "Measures and plots the predicted target values (y-axis) vs the difference between actual and predicted target values (x-axis), as well as the distribution of the residual error.\n",
        "\n",
        "Generally, the residuals of a well-fit model should be randomly distributed because good models will account for most phenomena in a data set, except for random error.\n",
        "\n",
        "[Check out the official documentation here $\\rightarrow$](https://docs.wandb.com/library/integrations/scikit#residuals-plot)\n"
      ]
    },
    {
      "cell_type": "code",
      "execution_count": null,
      "metadata": {
        "id": "kTrkMKiKzrPB"
      },
      "outputs": [],
      "source": [
        "wandb.sklearn.plot_residuals(reg, X_train, y_train)"
      ]
    },
    {
      "cell_type": "markdown",
      "metadata": {
        "id": "tPv7ZM2CzrPB"
      },
      "source": [
        "### Outlier Candidate\n",
        "\n",
        "Measures a datapoint's influence on regression model via Cook's distance. Instances with heavily skewed influences could potentially be outliers. Useful for outlier detection.\n",
        "\n",
        "[Check out the official documentation here $\\rightarrow$](https://docs.wandb.com/library/integrations/scikit#outlier-candidates-plot)"
      ]
    },
    {
      "cell_type": "code",
      "execution_count": null,
      "metadata": {
        "id": "oiezdYhMzrPB"
      },
      "outputs": [],
      "source": [
        "wandb.sklearn.plot_outlier_candidates(reg, X_train, y_train)"
      ]
    },
    {
      "cell_type": "markdown",
      "metadata": {
        "id": "7bZ6ZN5-zrPB"
      },
      "source": [
        "## All-in-one: Regression plot\n",
        "\n",
        "Using this all in one API one can:\n",
        "* Log summary of metrics\n",
        "* Log learning curve\n",
        "* Log outlier candidates\n",
        "* Log residual plot"
      ]
    },
    {
      "cell_type": "code",
      "execution_count": null,
      "metadata": {
        "id": "uyNT-z9FzrPB"
      },
      "outputs": [],
      "source": [
        "wandb.sklearn.plot_regressor(reg, X_train, X_test, y_train, y_test, model_name='Ridge')\n",
        "\n",
        "wandb.finish()"
      ]
    },
    {
      "cell_type": "markdown",
      "metadata": {
        "id": "xV4qLs2KzrPB"
      },
      "source": [
        "# Classification\n",
        "\n",
        "**Let's check out a quick example.**"
      ]
    },
    {
      "cell_type": "code",
      "execution_count": null,
      "metadata": {
        "id": "8QpFy9ghzrPB"
      },
      "outputs": [],
      "source": [
        "# Load data\n",
        "wbcd = wisconsin_breast_cancer_data = datasets.load_breast_cancer()\n",
        "feature_names = wbcd.feature_names\n",
        "labels = wbcd.target_names\n",
        "\n",
        "X_train, X_test, y_train, y_test = train_test_split(wbcd.data, wbcd.target, test_size=0.2)\n",
        "\n",
        "\n",
        "# Train model, get predictions\n",
        "model = RandomForestClassifier()\n",
        "model.fit(X_train, y_train)\n",
        "y_pred = model.predict(X_test)\n",
        "y_probas = model.predict_proba(X_test)\n",
        "importances = model.feature_importances_\n",
        "indices = np.argsort(importances)[::-1]"
      ]
    },
    {
      "cell_type": "markdown",
      "metadata": {
        "id": "TKTYkhRFzrPB"
      },
      "source": [
        "## Step 2: Initialize W&B run"
      ]
    },
    {
      "cell_type": "code",
      "execution_count": null,
      "metadata": {
        "id": "tJLduIkvzrPB"
      },
      "outputs": [],
      "source": [
        "run = wandb.init(project='my-scikit-integration', name=\"classification\")"
      ]
    },
    {
      "cell_type": "markdown",
      "metadata": {
        "id": "QycUelIfzrPB"
      },
      "source": [
        "## Step 3: Visualize model performance"
      ]
    },
    {
      "cell_type": "markdown",
      "metadata": {
        "id": "oPyfXSN1zrPB"
      },
      "source": [
        "### Class Proportions\n",
        "\n",
        "Plots the distribution of target classes in training and test sets. Useful for detecting imbalanced classes and ensuring that one class doesn't have a disproportionate influence on the model.\n",
        "\n",
        "[Check out the official documentation here $\\rightarrow$](https://docs.wandb.com/library/integrations/scikit#class-proportions)"
      ]
    },
    {
      "cell_type": "code",
      "execution_count": null,
      "metadata": {
        "id": "XpEqPltazrPC"
      },
      "outputs": [],
      "source": [
        "wandb.sklearn.plot_class_proportions(y_train, y_test, labels)"
      ]
    },
    {
      "cell_type": "markdown",
      "metadata": {
        "id": "Dr6svOohzrPC"
      },
      "source": [
        "### Learning Curve\n",
        "\n",
        "Trains model on datasets of varying lengths and generates a plot of cross validated scores vs dataset size, for both training and test sets.\n",
        "\n",
        "[Check out the official documentation here $\\rightarrow$](https://docs.wandb.com/library/integrations/scikit#learning-curve)"
      ]
    },
    {
      "cell_type": "code",
      "execution_count": null,
      "metadata": {
        "id": "-vXvueJRzrPC"
      },
      "outputs": [],
      "source": [
        "wandb.sklearn.plot_learning_curve(model, X_train, y_train)"
      ]
    },
    {
      "cell_type": "markdown",
      "metadata": {
        "id": "vXls0kWxzrPC"
      },
      "source": [
        "### ROC\n",
        "\n",
        "ROC curves plot true positive rate (y-axis) vs false positive rate (x-axis). The ideal score is a `TPR = 1` and `FPR = 0`, which is the point on the top left. Typically we calculate the area under the ROC curve (AUC-ROC), and the greater the AUC-ROC the better.\n",
        "\n",
        "[Check out the official documentation here $\\rightarrow$](https://docs.wandb.com/library/integrations/scikit#roc)"
      ]
    },
    {
      "cell_type": "code",
      "execution_count": null,
      "metadata": {
        "id": "cVKh8VKFzrPC"
      },
      "outputs": [],
      "source": [
        "wandb.sklearn.plot_roc(y_test, y_probas, labels)"
      ]
    },
    {
      "cell_type": "markdown",
      "metadata": {
        "id": "zFwtDveezrPC"
      },
      "source": [
        "### Precision Recall Curve\n",
        "\n",
        "Computes the tradeoff between precision and recall for different thresholds. A high area under the curve represents both high recall and high precision, where high precision relates to a low false positive rate, and high recall relates to a low false negative rate.\n",
        "\n",
        "[Check out the official documentation here $\\rightarrow$](https://docs.wandb.com/library/integrations/scikit#precision-recall-curve)"
      ]
    },
    {
      "cell_type": "code",
      "execution_count": null,
      "metadata": {
        "id": "vE4XfklQzrPC"
      },
      "outputs": [],
      "source": [
        "wandb.sklearn.plot_precision_recall(y_test, y_probas, labels)"
      ]
    },
    {
      "cell_type": "markdown",
      "metadata": {
        "id": "ojcf11zVzrPC"
      },
      "source": [
        "### Feature Importances\n",
        "\n",
        "Evaluates and plots the importance of each feature for the classification task. Only works with classifiers that have a `feature_importances_` attribute, like trees.\n",
        "\n",
        "[Check out the official documentation here $\\rightarrow$](https://docs.wandb.com/library/integrations/scikit#feature-importances)"
      ]
    },
    {
      "cell_type": "code",
      "execution_count": null,
      "metadata": {
        "id": "-pjPwnODzrPC"
      },
      "outputs": [],
      "source": [
        "wandb.sklearn.plot_feature_importances(model);"
      ]
    },
    {
      "cell_type": "markdown",
      "metadata": {
        "id": "TKdKH6uTzrPC"
      },
      "source": [
        "## All-in-one: Classifier Plot\n",
        "\n",
        "Using this all in one API one can:\n",
        "* Log feature importance\n",
        "* Log learning curve\n",
        "* Log confusion matrix\n",
        "* Log summary metrics\n",
        "* Log class proportions\n",
        "* Log calibration curve\n",
        "* Log roc curve\n",
        "* Log precision recall curve"
      ]
    },
    {
      "cell_type": "code",
      "execution_count": null,
      "metadata": {
        "id": "kSZR4HmpzrPC"
      },
      "outputs": [],
      "source": [
        "wandb.sklearn.plot_classifier(model,\n",
        "                              X_train, X_test,\n",
        "                              y_train, y_test,\n",
        "                              y_pred, y_probas,\n",
        "                              labels,\n",
        "                              is_binary=True,\n",
        "                              model_name='RandomForest')\n",
        "\n",
        "wandb.finish()"
      ]
    },
    {
      "cell_type": "markdown",
      "metadata": {
        "id": "8GubJdg9zrPC"
      },
      "source": [
        "# Clustering"
      ]
    },
    {
      "cell_type": "code",
      "execution_count": null,
      "metadata": {
        "id": "9hDP9F9lzrPC"
      },
      "outputs": [],
      "source": [
        "# Load data\n",
        "iris = datasets.load_iris()\n",
        "X, y = iris.data, iris.target\n",
        "names = iris.target_names\n",
        "\n",
        "def get_label_ids(classes):\n",
        "    return np.array([names[aclass] for aclass in classes])\n",
        "labels = get_label_ids(y)\n",
        "\n",
        "# Train model\n",
        "kmeans = KMeans(n_clusters=4, random_state=1)\n",
        "cluster_labels = kmeans.fit_predict(X)"
      ]
    },
    {
      "cell_type": "markdown",
      "metadata": {
        "id": "92QixwHZzrPC"
      },
      "source": [
        "## Step 2: Initialize W&B run"
      ]
    },
    {
      "cell_type": "code",
      "execution_count": null,
      "metadata": {
        "id": "Z-tuH-h3zrPJ"
      },
      "outputs": [],
      "source": [
        "run = wandb.init(project='my-scikit-integration', name=\"clustering\")"
      ]
    },
    {
      "cell_type": "markdown",
      "metadata": {
        "id": "u-UpY36NzrPJ"
      },
      "source": [
        "## Step 3: Visualize model performance"
      ]
    },
    {
      "cell_type": "markdown",
      "metadata": {
        "id": "cVd59Gh4zrPJ"
      },
      "source": [
        "### Elbow Plot\n",
        "\n",
        "Measures and plots the percentage of variance explained as a function of the number of clusters, along with training times. Useful in picking the optimal number of clusters.\n",
        "\n",
        "[Check out the official documentation here $\\rightarrow$](https://docs.wandb.com/library/integrations/scikit#elbow-plot)"
      ]
    },
    {
      "cell_type": "code",
      "execution_count": null,
      "metadata": {
        "id": "e1C9l1rPzrPJ"
      },
      "outputs": [],
      "source": [
        "wandb.sklearn.plot_elbow_curve(kmeans, X)"
      ]
    },
    {
      "cell_type": "markdown",
      "metadata": {
        "id": "ZyMN64OBzrPJ"
      },
      "source": [
        "### Silhouette Plot\n",
        "\n",
        "Measures & plots how close each point in one cluster is to points in the neighboring clusters. The thickness of the clusters corresponds to the cluster size. The vertical line represents the average silhouette score of all the points.\n",
        "\n",
        "[Check out the official documentation here $\\rightarrow$](https://docs.wandb.com/library/integrations/scikit#silhouette-plot)"
      ]
    },
    {
      "cell_type": "code",
      "execution_count": null,
      "metadata": {
        "id": "ItRLJbZBzrPJ"
      },
      "outputs": [],
      "source": [
        "wandb.sklearn.plot_silhouette(kmeans, X, labels)"
      ]
    },
    {
      "cell_type": "markdown",
      "metadata": {
        "id": "OJerc7OozrPJ"
      },
      "source": [
        "## All in one: Clusterer Plot\n",
        "\n",
        "Using this all-in-one API you can:\n",
        "* Log elbow curve\n",
        "* Log silhouette plot"
      ]
    },
    {
      "cell_type": "code",
      "execution_count": null,
      "metadata": {
        "id": "qWimQJZYzrPJ"
      },
      "outputs": [],
      "source": [
        "wandb.sklearn.plot_clusterer(kmeans, X, cluster_labels, labels, 'KMeans')\n",
        "\n",
        "wandb.finish()"
      ]
    },
    {
      "cell_type": "markdown",
      "metadata": {
        "id": "MjMLrLh-zrPJ"
      },
      "source": [
        "# Sweep 101\n",
        "\n",
        "Use Weights & Biases Sweeps to automate hyperparameter optimization and explore the space of possible models.\n",
        "\n",
        "## [Check out Hyperparameter Optimization in PyTorch using W&B Sweeps $\\rightarrow$](http://wandb.me/sweeps-colab)\n",
        "\n",
        "Running a hyperparameter sweep with Weights & Biases is very easy. There are just 3 simple steps:\n",
        "\n",
        "1. **Define the sweep:** We do this by creating a dictionary or a [YAML file](https://docs.wandb.com/library/sweeps/configuration) that specifies the parameters to search through, the search strategy, the optimization metric et all.\n",
        "\n",
        "2. **Initialize the sweep:**\n",
        "`sweep_id = wandb.sweep(sweep_config)`\n",
        "\n",
        "3. **Run the sweep agent:**\n",
        "`wandb.agent(sweep_id, function=train)`\n",
        "\n",
        "And voila! That's all there is to running a hyperparameter sweep! In the notebook below, we'll walk through these 3 steps in more detail.\n",
        "\n",
        "<img src=\"https://imgur.com/sdQXdDz.png\" alt=\"Sweep Result\" />\n"
      ]
    },
    {
      "cell_type": "markdown",
      "metadata": {
        "id": "4ftdDSPhzrPJ"
      },
      "source": [
        "# Example Gallery\n",
        "\n",
        "See examples of projects tracked and visualized with W&B in our gallery, [Fully Connected →](https://wandb.me/fc)"
      ]
    },
    {
      "cell_type": "markdown",
      "metadata": {
        "id": "LIpiKRRezrPJ"
      },
      "source": [
        "# Basic Setup\n",
        "1. **Projects**: Log multiple runs to a project to compare them. `wandb.init(project=\"project-name\")`\n",
        "2. **Groups**: For multiple processes or cross validation folds, log each process as a runs and group them together. `wandb.init(group='experiment-1')`\n",
        "3. **Tags**: Add tags to track your current baseline or production model.\n",
        "4. **Notes**: Type notes in the table to track the changes between runs.\n",
        "5. **Reports**: Take quick notes on progress to share with colleagues and make dashboards and snapshots of your ML projects."
      ]
    },
    {
      "cell_type": "markdown",
      "metadata": {
        "id": "0bXobNcRzrPJ"
      },
      "source": [
        "# Advanced Setup\n",
        "1. [Environment variables](https://docs.wandb.com/library/environment-variables): Set API keys in environment variables so you can run training on a managed cluster.\n",
        "2. [Offline mode](https://docs.wandb.com/library/technical-faq#can-i-run-wandb-offline): Use `dryrun` mode to train offline and sync results later.\n",
        "3. [On-prem](https://docs.wandb.com/self-hosted): Install W&B in a private cloud or air-gapped servers in your own infrastructure. We have local installations for everyone from academics to enterprise teams."
      ]
    }
  ],
  "metadata": {
    "accelerator": "GPU",
    "colab": {
      "provenance": [],
      "toc_visible": true,
      "include_colab_link": true
    },
    "kernelspec": {
      "display_name": "Python 3",
      "name": "python3"
    },
    "widgets": {
      "application/vnd.jupyter.widget-state+json": {
        "9a819ac0f0dc4f128e13a7abc59918bb": {
          "model_module": "@jupyter-widgets/controls",
          "model_name": "HBoxModel",
          "model_module_version": "1.5.0",
          "state": {
            "_dom_classes": [],
            "_model_module": "@jupyter-widgets/controls",
            "_model_module_version": "1.5.0",
            "_model_name": "HBoxModel",
            "_view_count": null,
            "_view_module": "@jupyter-widgets/controls",
            "_view_module_version": "1.5.0",
            "_view_name": "HBoxView",
            "box_style": "",
            "children": [
              "IPY_MODEL_4919fee702c346a39210736e979288e2",
              "IPY_MODEL_7999d1e7e831402991b407d09d53309c",
              "IPY_MODEL_1692eb49103d4bbd888751fabbc4ef1b"
            ],
            "layout": "IPY_MODEL_3db980aae3c3432f97b18b3480b9890a"
          }
        },
        "4919fee702c346a39210736e979288e2": {
          "model_module": "@jupyter-widgets/controls",
          "model_name": "HTMLModel",
          "model_module_version": "1.5.0",
          "state": {
            "_dom_classes": [],
            "_model_module": "@jupyter-widgets/controls",
            "_model_module_version": "1.5.0",
            "_model_name": "HTMLModel",
            "_view_count": null,
            "_view_module": "@jupyter-widgets/controls",
            "_view_module_version": "1.5.0",
            "_view_name": "HTMLView",
            "description": "",
            "description_tooltip": null,
            "layout": "IPY_MODEL_5815b0ca81754018846def2e8e5449db",
            "placeholder": "​",
            "style": "IPY_MODEL_fd9bdef814b74999bee13c559c810772",
            "value": " 17%"
          }
        },
        "7999d1e7e831402991b407d09d53309c": {
          "model_module": "@jupyter-widgets/controls",
          "model_name": "FloatProgressModel",
          "model_module_version": "1.5.0",
          "state": {
            "_dom_classes": [],
            "_model_module": "@jupyter-widgets/controls",
            "_model_module_version": "1.5.0",
            "_model_name": "FloatProgressModel",
            "_view_count": null,
            "_view_module": "@jupyter-widgets/controls",
            "_view_module_version": "1.5.0",
            "_view_name": "ProgressView",
            "bar_style": "",
            "description": "",
            "description_tooltip": null,
            "layout": "IPY_MODEL_b8ccaea361794188b1d4180f0c8d8390",
            "max": 100,
            "min": 0,
            "orientation": "horizontal",
            "style": "IPY_MODEL_aecbe592d621418f981a28294d5b955b",
            "value": 17
          }
        },
        "1692eb49103d4bbd888751fabbc4ef1b": {
          "model_module": "@jupyter-widgets/controls",
          "model_name": "HTMLModel",
          "model_module_version": "1.5.0",
          "state": {
            "_dom_classes": [],
            "_model_module": "@jupyter-widgets/controls",
            "_model_module_version": "1.5.0",
            "_model_name": "HTMLModel",
            "_view_count": null,
            "_view_module": "@jupyter-widgets/controls",
            "_view_module_version": "1.5.0",
            "_view_name": "HTMLView",
            "description": "",
            "description_tooltip": null,
            "layout": "IPY_MODEL_4461d797699241d2a752d6aeab6403a5",
            "placeholder": "​",
            "style": "IPY_MODEL_eadff0872b2449848dc2e8ed31a4fff7",
            "value": " 17/100 [elapsed: 00:51 remaining: 03:32]"
          }
        },
        "3db980aae3c3432f97b18b3480b9890a": {
          "model_module": "@jupyter-widgets/base",
          "model_name": "LayoutModel",
          "model_module_version": "1.2.0",
          "state": {
            "_model_module": "@jupyter-widgets/base",
            "_model_module_version": "1.2.0",
            "_model_name": "LayoutModel",
            "_view_count": null,
            "_view_module": "@jupyter-widgets/base",
            "_view_module_version": "1.2.0",
            "_view_name": "LayoutView",
            "align_content": null,
            "align_items": null,
            "align_self": null,
            "border": null,
            "bottom": null,
            "display": null,
            "flex": null,
            "flex_flow": null,
            "grid_area": null,
            "grid_auto_columns": null,
            "grid_auto_flow": null,
            "grid_auto_rows": null,
            "grid_column": null,
            "grid_gap": null,
            "grid_row": null,
            "grid_template_areas": null,
            "grid_template_columns": null,
            "grid_template_rows": null,
            "height": null,
            "justify_content": null,
            "justify_items": null,
            "left": null,
            "margin": null,
            "max_height": null,
            "max_width": null,
            "min_height": null,
            "min_width": null,
            "object_fit": null,
            "object_position": null,
            "order": null,
            "overflow": null,
            "overflow_x": null,
            "overflow_y": null,
            "padding": null,
            "right": null,
            "top": null,
            "visibility": null,
            "width": null
          }
        },
        "5815b0ca81754018846def2e8e5449db": {
          "model_module": "@jupyter-widgets/base",
          "model_name": "LayoutModel",
          "model_module_version": "1.2.0",
          "state": {
            "_model_module": "@jupyter-widgets/base",
            "_model_module_version": "1.2.0",
            "_model_name": "LayoutModel",
            "_view_count": null,
            "_view_module": "@jupyter-widgets/base",
            "_view_module_version": "1.2.0",
            "_view_name": "LayoutView",
            "align_content": null,
            "align_items": null,
            "align_self": null,
            "border": null,
            "bottom": null,
            "display": null,
            "flex": null,
            "flex_flow": null,
            "grid_area": null,
            "grid_auto_columns": null,
            "grid_auto_flow": null,
            "grid_auto_rows": null,
            "grid_column": null,
            "grid_gap": null,
            "grid_row": null,
            "grid_template_areas": null,
            "grid_template_columns": null,
            "grid_template_rows": null,
            "height": null,
            "justify_content": null,
            "justify_items": null,
            "left": null,
            "margin": null,
            "max_height": null,
            "max_width": null,
            "min_height": null,
            "min_width": null,
            "object_fit": null,
            "object_position": null,
            "order": null,
            "overflow": null,
            "overflow_x": null,
            "overflow_y": null,
            "padding": null,
            "right": null,
            "top": null,
            "visibility": null,
            "width": null
          }
        },
        "fd9bdef814b74999bee13c559c810772": {
          "model_module": "@jupyter-widgets/controls",
          "model_name": "DescriptionStyleModel",
          "model_module_version": "1.5.0",
          "state": {
            "_model_module": "@jupyter-widgets/controls",
            "_model_module_version": "1.5.0",
            "_model_name": "DescriptionStyleModel",
            "_view_count": null,
            "_view_module": "@jupyter-widgets/base",
            "_view_module_version": "1.2.0",
            "_view_name": "StyleView",
            "description_width": ""
          }
        },
        "b8ccaea361794188b1d4180f0c8d8390": {
          "model_module": "@jupyter-widgets/base",
          "model_name": "LayoutModel",
          "model_module_version": "1.2.0",
          "state": {
            "_model_module": "@jupyter-widgets/base",
            "_model_module_version": "1.2.0",
            "_model_name": "LayoutModel",
            "_view_count": null,
            "_view_module": "@jupyter-widgets/base",
            "_view_module_version": "1.2.0",
            "_view_name": "LayoutView",
            "align_content": null,
            "align_items": null,
            "align_self": null,
            "border": null,
            "bottom": null,
            "display": null,
            "flex": null,
            "flex_flow": null,
            "grid_area": null,
            "grid_auto_columns": null,
            "grid_auto_flow": null,
            "grid_auto_rows": null,
            "grid_column": null,
            "grid_gap": null,
            "grid_row": null,
            "grid_template_areas": null,
            "grid_template_columns": null,
            "grid_template_rows": null,
            "height": null,
            "justify_content": null,
            "justify_items": null,
            "left": null,
            "margin": null,
            "max_height": null,
            "max_width": null,
            "min_height": null,
            "min_width": null,
            "object_fit": null,
            "object_position": null,
            "order": null,
            "overflow": null,
            "overflow_x": null,
            "overflow_y": null,
            "padding": null,
            "right": null,
            "top": null,
            "visibility": null,
            "width": null
          }
        },
        "aecbe592d621418f981a28294d5b955b": {
          "model_module": "@jupyter-widgets/controls",
          "model_name": "ProgressStyleModel",
          "model_module_version": "1.5.0",
          "state": {
            "_model_module": "@jupyter-widgets/controls",
            "_model_module_version": "1.5.0",
            "_model_name": "ProgressStyleModel",
            "_view_count": null,
            "_view_module": "@jupyter-widgets/base",
            "_view_module_version": "1.2.0",
            "_view_name": "StyleView",
            "bar_color": null,
            "description_width": ""
          }
        },
        "4461d797699241d2a752d6aeab6403a5": {
          "model_module": "@jupyter-widgets/base",
          "model_name": "LayoutModel",
          "model_module_version": "1.2.0",
          "state": {
            "_model_module": "@jupyter-widgets/base",
            "_model_module_version": "1.2.0",
            "_model_name": "LayoutModel",
            "_view_count": null,
            "_view_module": "@jupyter-widgets/base",
            "_view_module_version": "1.2.0",
            "_view_name": "LayoutView",
            "align_content": null,
            "align_items": null,
            "align_self": null,
            "border": null,
            "bottom": null,
            "display": null,
            "flex": null,
            "flex_flow": null,
            "grid_area": null,
            "grid_auto_columns": null,
            "grid_auto_flow": null,
            "grid_auto_rows": null,
            "grid_column": null,
            "grid_gap": null,
            "grid_row": null,
            "grid_template_areas": null,
            "grid_template_columns": null,
            "grid_template_rows": null,
            "height": null,
            "justify_content": null,
            "justify_items": null,
            "left": null,
            "margin": null,
            "max_height": null,
            "max_width": null,
            "min_height": null,
            "min_width": null,
            "object_fit": null,
            "object_position": null,
            "order": null,
            "overflow": null,
            "overflow_x": null,
            "overflow_y": null,
            "padding": null,
            "right": null,
            "top": null,
            "visibility": null,
            "width": null
          }
        },
        "eadff0872b2449848dc2e8ed31a4fff7": {
          "model_module": "@jupyter-widgets/controls",
          "model_name": "DescriptionStyleModel",
          "model_module_version": "1.5.0",
          "state": {
            "_model_module": "@jupyter-widgets/controls",
            "_model_module_version": "1.5.0",
            "_model_name": "DescriptionStyleModel",
            "_view_count": null,
            "_view_module": "@jupyter-widgets/base",
            "_view_module_version": "1.2.0",
            "_view_name": "StyleView",
            "description_width": ""
          }
        }
      }
    }
  },
  "nbformat": 4,
  "nbformat_minor": 0
}